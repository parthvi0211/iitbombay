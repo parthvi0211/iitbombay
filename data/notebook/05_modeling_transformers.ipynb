{
 "cells": [
  {
   "cell_type": "code",
   "execution_count": 1,
   "id": "b015c28e-086d-4f53-abf2-265ea41f20af",
   "metadata": {},
   "outputs": [
    {
     "name": "stdout",
     "output_type": "stream",
     "text": [
      "✅ Loaded dataset\n",
      "Shape: (1572, 50)\n",
      "Label distribution:\n",
      " label\n",
      "2    670\n",
      "1    455\n",
      "0    447\n",
      "Name: count, dtype: int64\n"
     ]
    }
   ],
   "source": [
    "# Step 0: Imports\n",
    "import pandas as pd\n",
    "import torch\n",
    "from torch import nn\n",
    "from torch.utils.data import Dataset, DataLoader\n",
    "from sklearn.model_selection import train_test_split\n",
    "from sklearn.preprocessing import StandardScaler\n",
    "from sklearn.metrics import classification_report\n",
    "import joblib\n",
    "import os\n",
    "import numpy as np\n",
    "\n",
    "# Step 1: Load engineered dataset\n",
    "df = pd.read_csv(\"../data/combined_engineered.csv\")\n",
    "print(\"✅ Loaded dataset\")\n",
    "print(\"Shape:\", df.shape)\n",
    "print(\"Label distribution:\\n\", df['label'].value_counts())\n"
   ]
  },
  {
   "cell_type": "code",
   "execution_count": 2,
   "id": "0c02d640-1f84-449b-826e-7c31986a7570",
   "metadata": {},
   "outputs": [],
   "source": [
    "# Step 2: Prepare features and labels\n",
    "X = df.drop(columns=['label', 'Key', 'Participant_ID']).values.astype(np.float32)\n",
    "y = df['label'].values.astype(np.int64)\n",
    "\n",
    "# Train/test split\n",
    "X_train, X_test, y_train, y_test = train_test_split(\n",
    "    X, y, test_size=0.2, random_state=42\n",
    ")\n"
   ]
  },
  {
   "cell_type": "code",
   "execution_count": 3,
   "id": "5530713e-3715-4c83-b76b-db031165aee7",
   "metadata": {},
   "outputs": [],
   "source": [
    "# Step 3: PyTorch Dataset\n",
    "class TabularDataset(Dataset):\n",
    "    def __init__(self, X, y):\n",
    "        self.X = torch.tensor(X, dtype=torch.float32)\n",
    "        self.y = torch.tensor(y, dtype=torch.long)\n",
    "    def __len__(self):\n",
    "        return len(self.X)\n",
    "    def __getitem__(self, idx):\n",
    "        return self.X[idx], self.y[idx]\n",
    "\n",
    "train_dataset = TabularDataset(X_train, y_train)\n",
    "test_dataset = TabularDataset(X_test, y_test)\n",
    "\n",
    "train_loader = DataLoader(train_dataset, batch_size=32, shuffle=True)\n",
    "test_loader = DataLoader(test_dataset, batch_size=32, shuffle=False)"
   ]
  },
  {
   "cell_type": "code",
   "execution_count": 4,
   "id": "e0e7dfb6-c7ca-4377-a50f-1b8729598545",
   "metadata": {},
   "outputs": [],
   "source": [
    "# Step 4: Define simple Tabular Transformer model\n",
    "class SimpleTabTransformer(nn.Module):\n",
    "    def __init__(self, input_dim, hidden_dim=128, num_classes=3):\n",
    "        super().__init__()\n",
    "        self.net = nn.Sequential(\n",
    "            nn.Linear(input_dim, hidden_dim),\n",
    "            nn.ReLU(),\n",
    "            nn.BatchNorm1d(hidden_dim),\n",
    "            nn.Linear(hidden_dim, hidden_dim),\n",
    "            nn.ReLU(),\n",
    "            nn.BatchNorm1d(hidden_dim),\n",
    "            nn.Linear(hidden_dim, num_classes)\n",
    "        )\n",
    "    def forward(self, x):\n",
    "        return self.net(x)\n",
    "\n",
    "device = torch.device('cuda' if torch.cuda.is_available() else 'cpu')\n",
    "model = SimpleTabTransformer(X_train.shape[1]).to(device)"
   ]
  },
  {
   "cell_type": "code",
   "execution_count": 5,
   "id": "60b84004-4d7b-425c-98ff-2a831f6a1b28",
   "metadata": {},
   "outputs": [],
   "source": [
    "# Step 5: Loss and optimizer\n",
    "criterion = nn.CrossEntropyLoss()\n",
    "optimizer = torch.optim.Adam(model.parameters(), lr=0.001)\n"
   ]
  },
  {
   "cell_type": "code",
   "execution_count": 6,
   "id": "274811de-6306-43ea-8b3e-2399ac075284",
   "metadata": {},
   "outputs": [
    {
     "name": "stdout",
     "output_type": "stream",
     "text": [
      "Epoch 1/20, Loss: 0.9394\n",
      "Epoch 2/20, Loss: 0.7933\n",
      "Epoch 3/20, Loss: 0.7421\n",
      "Epoch 4/20, Loss: 0.7009\n",
      "Epoch 5/20, Loss: 0.6511\n",
      "Epoch 6/20, Loss: 0.6126\n",
      "Epoch 7/20, Loss: 0.5856\n",
      "Epoch 8/20, Loss: 0.5219\n",
      "Epoch 9/20, Loss: 0.5095\n",
      "Epoch 10/20, Loss: 0.4793\n",
      "Epoch 11/20, Loss: 0.4592\n",
      "Epoch 12/20, Loss: 0.4257\n",
      "Epoch 13/20, Loss: 0.3974\n",
      "Epoch 14/20, Loss: 0.3666\n",
      "Epoch 15/20, Loss: 0.3327\n",
      "Epoch 16/20, Loss: 0.3377\n",
      "Epoch 17/20, Loss: 0.3043\n",
      "Epoch 18/20, Loss: 0.3013\n",
      "Epoch 19/20, Loss: 0.2855\n",
      "Epoch 20/20, Loss: 0.2627\n"
     ]
    }
   ],
   "source": [
    "# Step 6: Training loop\n",
    "epochs = 20\n",
    "for epoch in range(epochs):\n",
    "    model.train()\n",
    "    running_loss = 0.0\n",
    "    for xb, yb in train_loader:\n",
    "        xb, yb = xb.to(device), yb.to(device)\n",
    "        optimizer.zero_grad()\n",
    "        out = model(xb)\n",
    "        loss = criterion(out, yb)\n",
    "        loss.backward()\n",
    "        optimizer.step()\n",
    "        running_loss += loss.item() * xb.size(0)\n",
    "    epoch_loss = running_loss / len(train_loader.dataset)\n",
    "    print(f\"Epoch {epoch+1}/{epochs}, Loss: {epoch_loss:.4f}\")"
   ]
  },
  {
   "cell_type": "code",
   "execution_count": 7,
   "id": "4e2db502-5801-41a2-b22b-3133555a11a8",
   "metadata": {},
   "outputs": [
    {
     "name": "stdout",
     "output_type": "stream",
     "text": [
      "\n",
      "Classification Report (Transformer Model):\n",
      "\n",
      "              precision    recall  f1-score   support\n",
      "\n",
      "           0       0.60      0.66      0.63        91\n",
      "           1       0.57      0.56      0.56        97\n",
      "           2       0.75      0.71      0.73       127\n",
      "\n",
      "    accuracy                           0.65       315\n",
      "   macro avg       0.64      0.64      0.64       315\n",
      "weighted avg       0.65      0.65      0.65       315\n",
      "\n"
     ]
    }
   ],
   "source": [
    "# Step 7: Evaluation\n",
    "model.eval()\n",
    "y_pred_list = []\n",
    "y_true_list = []\n",
    "\n",
    "with torch.no_grad():\n",
    "    for xb, yb in test_loader:\n",
    "        xb = xb.to(device)\n",
    "        out = model(xb)\n",
    "        preds = torch.argmax(out, dim=1)\n",
    "        y_pred_list.extend(preds.cpu().numpy())\n",
    "        y_true_list.extend(yb.numpy())\n",
    "\n",
    "print(\"\\nClassification Report (Transformer Model):\\n\")\n",
    "print(classification_report(y_true_list, y_pred_list))"
   ]
  },
  {
   "cell_type": "code",
   "execution_count": 8,
   "id": "ac2675e9-1b44-48bc-a524-bd1ac90754b1",
   "metadata": {},
   "outputs": [
    {
     "name": "stdout",
     "output_type": "stream",
     "text": [
      "✅ Transformer model saved at ../models/tabtransformer_sentiment.pt\n"
     ]
    }
   ],
   "source": [
    "# Step 8: Save the model\n",
    "os.makedirs(\"../models\", exist_ok=True)\n",
    "torch.save(model.state_dict(), \"../models/tabtransformer_sentiment.pt\")\n",
    "print(\"✅ Transformer model saved at ../models/tabtransformer_sentiment.pt\")"
   ]
  },
  {
   "cell_type": "code",
   "execution_count": null,
   "id": "1d816c65-df90-4431-8b16-50499d9c05c6",
   "metadata": {},
   "outputs": [],
   "source": []
  }
 ],
 "metadata": {
  "kernelspec": {
   "display_name": "Python 3 (ipykernel)",
   "language": "python",
   "name": "python3"
  },
  "language_info": {
   "codemirror_mode": {
    "name": "ipython",
    "version": 3
   },
   "file_extension": ".py",
   "mimetype": "text/x-python",
   "name": "python",
   "nbconvert_exporter": "python",
   "pygments_lexer": "ipython3",
   "version": "3.13.7"
  }
 },
 "nbformat": 4,
 "nbformat_minor": 5
}
