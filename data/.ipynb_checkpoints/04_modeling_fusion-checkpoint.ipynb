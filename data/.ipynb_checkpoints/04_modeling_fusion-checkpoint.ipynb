{
 "cells": [
  {
   "cell_type": "code",
   "execution_count": 1,
   "id": "b91b1848-085e-4d53-9534-7d453909bcf4",
   "metadata": {},
   "outputs": [
    {
     "name": "stdout",
     "output_type": "stream",
     "text": [
      "✅ Loaded engineered dataset\n",
      "Shape: (1572, 50)\n",
      "Label distribution:\n",
      " label\n",
      "2    670\n",
      "1    455\n",
      "0    447\n",
      "Name: count, dtype: int64\n"
     ]
    }
   ],
   "source": [
    "# Step 0: Imports\n",
    "import pandas as pd\n",
    "from sklearn.model_selection import train_test_split\n",
    "from sklearn.ensemble import RandomForestClassifier\n",
    "from sklearn.metrics import classification_report\n",
    "import joblib\n",
    "import os\n",
    "\n",
    "# Step 1: Load engineered dataset\n",
    "df_path = \"../data/combined_engineered.csv\"\n",
    "df = pd.read_csv(df_path)\n",
    "print(\"✅ Loaded engineered dataset\")\n",
    "print(\"Shape:\", df.shape)\n",
    "print(\"Label distribution:\\n\", df['label'].value_counts())"
   ]
  },
  {
   "cell_type": "code",
   "execution_count": null,
   "id": "4e62efa5-d4f2-420a-89f1-31b426a2c004",
   "metadata": {},
   "outputs": [],
   "source": []
  },
  {
   "cell_type": "code",
   "execution_count": 2,
   "id": "454c7da4-7db7-42f6-9064-70cd525e245d",
   "metadata": {},
   "outputs": [],
   "source": [
    "# Step 2: Define modality columns\n",
    "modality_features = {\n",
    "    \"EEG\": [col for col in df.columns if \"eeg\" in col],\n",
    "    \"GSR\": [col for col in df.columns if \"gsr\" in col],\n",
    "    \"IVT\": [col for col in df.columns if \"ivt\" in col],\n",
    "    \"TIVA\": [col for col in df.columns if \"tiva\" in col],\n",
    "    \"FUSION\": [col for col in df.columns if col not in ['label', 'Key', 'Participant_ID']]\n",
    "}\n"
   ]
  },
  {
   "cell_type": "code",
   "execution_count": 3,
   "id": "378296e2-90c8-419c-99e2-4113efab2aa5",
   "metadata": {},
   "outputs": [
    {
     "name": "stdout",
     "output_type": "stream",
     "text": [
      "\n",
      "Training model for EEG (features: 10)\n",
      "\n",
      "Training model for GSR (features: 4)\n",
      "\n",
      "Training model for IVT (features: 4)\n",
      "\n",
      "Training model for TIVA (features: 26)\n",
      "\n",
      "Training model for FUSION (features: 47)\n"
     ]
    }
   ],
   "source": [
    "# Step 3: Train modality-specific models\n",
    "os.makedirs(\"../models\", exist_ok=True)\n",
    "results = {}\n",
    "\n",
    "for modality, cols in modality_features.items():\n",
    "    print(f\"\\nTraining model for {modality} (features: {len(cols)})\")\n",
    "    \n",
    "    X = df[cols]\n",
    "    y = df['label']\n",
    "    \n",
    "    X_train, X_test, y_train, y_test = train_test_split(\n",
    "        X, y, test_size=0.2, random_state=42\n",
    "    )\n",
    "    \n",
    "    model = RandomForestClassifier(class_weight=\"balanced\", random_state=42)\n",
    "    model.fit(X_train, y_train)\n",
    "    \n",
    "    y_pred = model.predict(X_test)\n",
    "    report = classification_report(y_test, y_pred, output_dict=True)\n",
    "    results[modality] = report"
   ]
  },
  {
   "cell_type": "code",
   "execution_count": 4,
   "id": "11ca0616-75c6-482b-817b-92e3e834d479",
   "metadata": {},
   "outputs": [
    {
     "ename": "IndentationError",
     "evalue": "unexpected indent (3615960075.py, line 2)",
     "output_type": "error",
     "traceback": [
      "  \u001b[36mCell\u001b[39m\u001b[36m \u001b[39m\u001b[32mIn[4]\u001b[39m\u001b[32m, line 2\u001b[39m\n\u001b[31m    \u001b[39m\u001b[31mmodel_path = f\"../models/randomforest_{modality.lower()}.pkl\"\u001b[39m\n    ^\n\u001b[31mIndentationError\u001b[39m\u001b[31m:\u001b[39m unexpected indent\n"
     ]
    }
   ],
   "source": [
    " # Save model\n",
    "    model_path = f\"../models/randomforest_{modality.lower()}.pkl\"\n",
    "    joblib.dump(model, model_path)\n",
    "    print(f\"✅ {modality} model saved at {model_path}\")\n",
    "    print(f\"Classification Report for {modality}:\\n\", classification_report(y_test, y_pred))"
   ]
  },
  {
   "cell_type": "code",
   "execution_count": 5,
   "id": "8cac3191-566c-401c-942e-5762ada666b8",
   "metadata": {},
   "outputs": [
    {
     "name": "stdout",
     "output_type": "stream",
     "text": [
      "\n",
      "Training model for EEG (features: 10)\n",
      "✅ EEG model saved at ../models/randomforest_eeg.pkl\n",
      "Classification Report for EEG:\n",
      "               precision    recall  f1-score   support\n",
      "\n",
      "           0       0.51      0.58      0.54        91\n",
      "           1       0.52      0.36      0.43        97\n",
      "           2       0.63      0.72      0.67       127\n",
      "\n",
      "    accuracy                           0.57       315\n",
      "   macro avg       0.55      0.55      0.55       315\n",
      "weighted avg       0.56      0.57      0.56       315\n",
      "\n",
      "\n",
      "Training model for GSR (features: 4)\n",
      "✅ GSR model saved at ../models/randomforest_gsr.pkl\n",
      "Classification Report for GSR:\n",
      "               precision    recall  f1-score   support\n",
      "\n",
      "           0       0.56      0.55      0.56        91\n",
      "           1       0.55      0.53      0.54        97\n",
      "           2       0.72      0.76      0.74       127\n",
      "\n",
      "    accuracy                           0.63       315\n",
      "   macro avg       0.61      0.61      0.61       315\n",
      "weighted avg       0.62      0.63      0.62       315\n",
      "\n",
      "\n",
      "Training model for IVT (features: 4)\n",
      "✅ IVT model saved at ../models/randomforest_ivt.pkl\n",
      "Classification Report for IVT:\n",
      "               precision    recall  f1-score   support\n",
      "\n",
      "           0       0.42      0.48      0.45        91\n",
      "           1       0.34      0.24      0.28        97\n",
      "           2       0.63      0.70      0.66       127\n",
      "\n",
      "    accuracy                           0.50       315\n",
      "   macro avg       0.46      0.47      0.46       315\n",
      "weighted avg       0.48      0.50      0.48       315\n",
      "\n",
      "\n",
      "Training model for TIVA (features: 26)\n",
      "✅ TIVA model saved at ../models/randomforest_tiva.pkl\n",
      "Classification Report for TIVA:\n",
      "               precision    recall  f1-score   support\n",
      "\n",
      "           0       0.59      0.66      0.62        91\n",
      "           1       0.59      0.49      0.54        97\n",
      "           2       0.77      0.80      0.79       127\n",
      "\n",
      "    accuracy                           0.67       315\n",
      "   macro avg       0.65      0.65      0.65       315\n",
      "weighted avg       0.66      0.67      0.66       315\n",
      "\n",
      "\n",
      "Training model for FUSION (features: 47)\n",
      "✅ FUSION model saved at ../models/randomforest_fusion.pkl\n",
      "Classification Report for FUSION:\n",
      "               precision    recall  f1-score   support\n",
      "\n",
      "           0       0.65      0.74      0.69        91\n",
      "           1       0.71      0.49      0.58        97\n",
      "           2       0.72      0.82      0.77       127\n",
      "\n",
      "    accuracy                           0.70       315\n",
      "   macro avg       0.69      0.68      0.68       315\n",
      "weighted avg       0.70      0.70      0.69       315\n",
      "\n"
     ]
    }
   ],
   "source": [
    "for modality, cols in modality_features.items():\n",
    "    print(f\"\\nTraining model for {modality} (features: {len(cols)})\")\n",
    "    \n",
    "    X = df[cols]\n",
    "    y = df['label']\n",
    "    \n",
    "    X_train, X_test, y_train, y_test = train_test_split(\n",
    "        X, y, test_size=0.2, random_state=42\n",
    "    )\n",
    "    \n",
    "    model = RandomForestClassifier(class_weight=\"balanced\", random_state=42)\n",
    "    model.fit(X_train, y_train)\n",
    "    \n",
    "    y_pred = model.predict(X_test)\n",
    "    report = classification_report(y_test, y_pred, output_dict=True)\n",
    "    results[modality] = report\n",
    "    \n",
    "    # Save model\n",
    "    model_path = f\"../models/randomforest_{modality.lower()}.pkl\"\n",
    "    joblib.dump(model, model_path)\n",
    "    \n",
    "    print(f\"✅ {modality} model saved at {model_path}\")\n",
    "    print(f\"Classification Report for {modality}:\\n\", classification_report(y_test, y_pred))\n"
   ]
  },
  {
   "cell_type": "code",
   "execution_count": 6,
   "id": "4265d2bb-7e3a-4498-8731-06696bf612b7",
   "metadata": {},
   "outputs": [
    {
     "name": "stdout",
     "output_type": "stream",
     "text": [
      "\n",
      "✅ Summary of F1-scores per modality:\n",
      "EEG: F1-macro = 0.5473\n",
      "GSR: F1-macro = 0.6103\n",
      "IVT: F1-macro = 0.4632\n",
      "TIVA: F1-macro = 0.6496\n",
      "FUSION: F1-macro = 0.6800\n"
     ]
    }
   ],
   "source": [
    "# Step 4: Compare performance\n",
    "print(\"\\n✅ Summary of F1-scores per modality:\")\n",
    "for modality, report in results.items():\n",
    "    f1_macro = report['macro avg']['f1-score']\n",
    "    print(f\"{modality}: F1-macro = {f1_macro:.4f}\")"
   ]
  },
  {
   "cell_type": "code",
   "execution_count": null,
   "id": "027d7956-0452-416c-8350-59a552eb21fc",
   "metadata": {},
   "outputs": [],
   "source": []
  }
 ],
 "metadata": {
  "kernelspec": {
   "display_name": "Python 3 (ipykernel)",
   "language": "python",
   "name": "python3"
  },
  "language_info": {
   "codemirror_mode": {
    "name": "ipython",
    "version": 3
   },
   "file_extension": ".py",
   "mimetype": "text/x-python",
   "name": "python",
   "nbconvert_exporter": "python",
   "pygments_lexer": "ipython3",
   "version": "3.13.7"
  }
 },
 "nbformat": 4,
 "nbformat_minor": 5
}
