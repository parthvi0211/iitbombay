{
 "cells": [
  {
   "cell_type": "code",
   "execution_count": 1,
   "id": "0afedd88-8254-49ce-a090-6b23c66e6a5c",
   "metadata": {},
   "outputs": [],
   "source": [
    "\n",
    "# Step 0: Imports\n",
    "import pandas as pd\n",
    "from sklearn.model_selection import train_test_split\n",
    "from sklearn.ensemble import RandomForestClassifier\n",
    "from sklearn.metrics import classification_report\n",
    "import joblib\n",
    "import os\n"
   ]
  },
  {
   "cell_type": "code",
   "execution_count": 3,
   "id": "f4b04534-3732-44b8-9641-0196fe898c7d",
   "metadata": {},
   "outputs": [
    {
     "name": "stdout",
     "output_type": "stream",
     "text": [
      "✅ Loaded engineered dataset\n",
      "Shape: (1572, 50)\n",
      "Label distribution:\n",
      " label\n",
      "2    670\n",
      "1    455\n",
      "0    447\n",
      "Name: count, dtype: int64\n"
     ]
    }
   ],
   "source": [
    "# Step 1: Load engineered dataset\n",
    "df_path = \"../data/combined_engineered.csv\"\n",
    "df = pd.read_csv(df_path)\n",
    "print(\"✅ Loaded engineered dataset\")\n",
    "print(\"Shape:\", df.shape)\n",
    "print(\"Label distribution:\\n\", df['label'].value_counts())\n"
   ]
  },
  {
   "cell_type": "code",
   "execution_count": 4,
   "id": "d802769f-1b68-4e95-b3a9-c0b36d432ecf",
   "metadata": {},
   "outputs": [],
   "source": [
    "# Step 2: Define features and labels\n",
    "X = df.drop(columns=['label', 'Key', 'Participant_ID'])\n",
    "y = df['label']"
   ]
  },
  {
   "cell_type": "code",
   "execution_count": 5,
   "id": "4c11a234-ede3-4448-a6f3-7b6dc8ab25a1",
   "metadata": {},
   "outputs": [
    {
     "name": "stdout",
     "output_type": "stream",
     "text": [
      "Number of features: 47\n"
     ]
    }
   ],
   "source": [
    "print(\"Number of features:\", X.shape[1])"
   ]
  },
  {
   "cell_type": "code",
   "execution_count": 6,
   "id": "d8fd846b-99f2-4f93-9b31-da783506b53d",
   "metadata": {},
   "outputs": [
    {
     "name": "stdout",
     "output_type": "stream",
     "text": [
      "Train shape: (1257, 47), Test shape: (315, 47)\n"
     ]
    }
   ],
   "source": [
    "# Step 3: Train/test split\n",
    "X_train, X_test, y_train, y_test = train_test_split(\n",
    "    X, y, test_size=0.2, random_state=42\n",
    ")\n",
    "print(f\"Train shape: {X_train.shape}, Test shape: {X_test.shape}\")"
   ]
  },
  {
   "cell_type": "code",
   "execution_count": 7,
   "id": "030f3df1-e1ef-4688-8597-f0f4022ca940",
   "metadata": {},
   "outputs": [
    {
     "name": "stdout",
     "output_type": "stream",
     "text": [
      "✅ Random Forest trained\n"
     ]
    }
   ],
   "source": [
    "# Step 4: Train Random Forest classifier\n",
    "model = RandomForestClassifier(class_weight=\"balanced\", random_state=42)\n",
    "model.fit(X_train, y_train)\n",
    "print(\"✅ Random Forest trained\")"
   ]
  },
  {
   "cell_type": "code",
   "execution_count": 8,
   "id": "ea13d16a-f04c-4312-bd39-9c31834c6d1f",
   "metadata": {},
   "outputs": [
    {
     "name": "stdout",
     "output_type": "stream",
     "text": [
      "\n",
      "Classification Report:\n",
      "\n",
      "              precision    recall  f1-score   support\n",
      "\n",
      "           0       0.65      0.74      0.69        91\n",
      "           1       0.71      0.49      0.58        97\n",
      "           2       0.72      0.82      0.77       127\n",
      "\n",
      "    accuracy                           0.70       315\n",
      "   macro avg       0.69      0.68      0.68       315\n",
      "weighted avg       0.70      0.70      0.69       315\n",
      "\n"
     ]
    }
   ],
   "source": [
    "# Step 5: Evaluate model\n",
    "y_pred = model.predict(X_test)\n",
    "print(\"\\nClassification Report:\\n\")\n",
    "print(classification_report(y_test, y_pred))"
   ]
  },
  {
   "cell_type": "code",
   "execution_count": 9,
   "id": "11d6e5c2-7bc6-413b-97e1-9e841257af30",
   "metadata": {},
   "outputs": [
    {
     "name": "stdout",
     "output_type": "stream",
     "text": [
      "✅ Model saved at ../models/randomforest_sentiment.pkl\n"
     ]
    }
   ],
   "source": [
    "# Step 6: Save the trained model\n",
    "os.makedirs(\"../models\", exist_ok=True)\n",
    "model_path = \"../models/randomforest_sentiment.pkl\"\n",
    "joblib.dump(model, model_path)\n",
    "print(f\"✅ Model saved at {model_path}\")"
   ]
  },
  {
   "cell_type": "code",
   "execution_count": null,
   "id": "8404363a-1eac-4494-9398-392137b1538c",
   "metadata": {},
   "outputs": [],
   "source": []
  }
 ],
 "metadata": {
  "kernelspec": {
   "display_name": "Python 3 (ipykernel)",
   "language": "python",
   "name": "python3"
  },
  "language_info": {
   "codemirror_mode": {
    "name": "ipython",
    "version": 3
   },
   "file_extension": ".py",
   "mimetype": "text/x-python",
   "name": "python",
   "nbconvert_exporter": "python",
   "pygments_lexer": "ipython3",
   "version": "3.13.7"
  }
 },
 "nbformat": 4,
 "nbformat_minor": 5
}
